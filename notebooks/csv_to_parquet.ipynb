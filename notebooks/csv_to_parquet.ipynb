{
 "cells": [
  {
   "cell_type": "code",
   "execution_count": 1,
   "id": "9d9c707f-e814-4d57-9f50-3d513c12dc0d",
   "metadata": {},
   "outputs": [
    {
     "name": "stdout",
     "output_type": "stream",
     "text": [
      "Converting appearances.csv → appearances.parquet\n",
      "✓ Done. Saved appearances.parquet (rows: 1,706,806)\n",
      "Converting players.csv → players.parquet\n",
      "✓ Done. Saved players.parquet (rows: 32,601)\n"
     ]
    }
   ],
   "source": [
    "# dataset_to_parquet.ipynb\n",
    "\n",
    "import pandas as pd\n",
    "from pathlib import Path\n",
    "\n",
    "# Define file list (CSV → Parquet, same folder as notebook)\n",
    "files = [\n",
    "    (\"appearances.csv\", \"appearances.parquet\"),\n",
    "    (\"players.csv\", \"players.parquet\"),\n",
    "]\n",
    "\n",
    "def convert_csv_to_parquet(csv_file, parquet_file, chunksize=250_000):\n",
    "    \"\"\"\n",
    "    Convert a large CSV to Parquet format (same directory as notebook).\n",
    "    \n",
    "    Parameters\n",
    "    ----------\n",
    "    csv_file : str or Path\n",
    "        Input CSV filename.\n",
    "    parquet_file : str or Path\n",
    "        Output Parquet filename.\n",
    "    chunksize : int, optional\n",
    "        Number of rows per chunk for reading (to handle large files).\n",
    "    \"\"\"\n",
    "    csv_path = Path(csv_file)\n",
    "    parquet_path = Path(parquet_file)\n",
    "\n",
    "    if not csv_path.exists():\n",
    "        print(f\"⚠️ File not found: {csv_path}\")\n",
    "        return\n",
    "    \n",
    "    print(f\"Converting {csv_path.name} → {parquet_path.name}\")\n",
    "    \n",
    "    # Read in chunks to avoid memory issues\n",
    "    chunks = []\n",
    "    for chunk in pd.read_csv(csv_path, low_memory=False, chunksize=chunksize):\n",
    "        chunks.append(chunk)\n",
    "    df = pd.concat(chunks, ignore_index=True)\n",
    "    \n",
    "    # Save as Parquet\n",
    "    df.to_parquet(parquet_path, index=False)\n",
    "    print(f\"✓ Done. Saved {parquet_path} (rows: {len(df):,})\")\n",
    "\n",
    "# Run conversions\n",
    "for csv_file, parquet_file in files:\n",
    "    convert_csv_to_parquet(csv_file, parquet_file)"
   ]
  }
 ],
 "metadata": {
  "kernelspec": {
   "display_name": "Python (base)",
   "language": "python",
   "name": "base"
  },
  "language_info": {
   "codemirror_mode": {
    "name": "ipython",
    "version": 3
   },
   "file_extension": ".py",
   "mimetype": "text/x-python",
   "name": "python",
   "nbconvert_exporter": "python",
   "pygments_lexer": "ipython3",
   "version": "3.12.3"
  }
 },
 "nbformat": 4,
 "nbformat_minor": 5
}
