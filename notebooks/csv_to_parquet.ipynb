{
 "cells": [
  {
   "cell_type": "code",
   "execution_count": 3,
   "id": "9d9c707f-e814-4d57-9f50-3d513c12dc0d",
   "metadata": {},
   "outputs": [
    {
     "name": "stdout",
     "output_type": "stream",
     "text": [
      "Converting player_performances.csv → player_performances.parquet  (chunksize=250,000, engine=pyarrow, compression=snappy)\n",
      "✓ Done. Saved player_performances.parquet (rows: 760,125)\n",
      "Converting player_injuries.csv → player_injuries.parquet  (chunksize=250,000, engine=pyarrow, compression=snappy)\n",
      "✓ Done. Saved player_injuries.parquet (rows: 77,871)\n",
      "Converting player_national_performances.csv → player_national_performances.parquet  (chunksize=250,000, engine=pyarrow, compression=snappy)\n",
      "✓ Done. Saved player_national_performances.parquet (rows: 62,370)\n",
      "Converting player_teammates_played_with.csv → player_teammates_played_with.parquet  (chunksize=250,000, engine=pyarrow, compression=snappy)\n",
      "✓ Done. Saved player_teammates_played_with.parquet (rows: 681,279)\n",
      "Converting player_profiles.csv → player_profiles.parquet  (chunksize=250,000, engine=pyarrow, compression=snappy)\n",
      "✓ Done. Saved player_profiles.parquet (rows: 40,738)\n"
     ]
    }
   ],
   "source": [
    "# dataset_to_parquet.ipynb\n",
    "\n",
    "import pandas as pd\n",
    "from pathlib import Path\n",
    "\n",
    "def convert_csv_to_parquet(csv_file, parquet_file, chunksize=250_000, engine=\"pyarrow\", compression=\"snappy\"):\n",
    "    \"\"\"\n",
    "    Convert a large CSV to Parquet format (same directory as notebook).\n",
    "\n",
    "    Parameters\n",
    "    ----------\n",
    "    csv_file : str or Path\n",
    "        Input CSV filename.\n",
    "    parquet_file : str or Path\n",
    "        Output Parquet filename.\n",
    "    chunksize : int, optional\n",
    "        Number of rows per chunk for reading (to handle large files).\n",
    "    engine : {\"pyarrow\",\"fastparquet\"}, optional\n",
    "        Parquet engine to use. Default \"pyarrow\".\n",
    "    compression : {\"snappy\",\"gzip\",None}, optional\n",
    "        Parquet compression. Default \"snappy\".\n",
    "    \"\"\"\n",
    "    csv_path = Path(csv_file)\n",
    "    parquet_path = Path(parquet_file)\n",
    "\n",
    "    if not csv_path.exists():\n",
    "        print(f\"⚠️ File not found: {csv_path}\")\n",
    "        return\n",
    "    \n",
    "    print(f\"Converting {csv_path.name} → {parquet_path.name}  (chunksize={chunksize:,}, engine={engine}, compression={compression})\")\n",
    "    \n",
    "    # Read in chunks to avoid memory issues\n",
    "    chunks = []\n",
    "    for chunk in pd.read_csv(csv_path, low_memory=False, chunksize=chunksize):\n",
    "        chunks.append(chunk)\n",
    "    df = pd.concat(chunks, ignore_index=True)\n",
    "    \n",
    "    # Save as Parquet\n",
    "    df.to_parquet(parquet_path, index=False, engine=engine, compression=compression)\n",
    "    print(f\"✓ Done. Saved {parquet_path} (rows: {len(df):,})\")\n",
    "\n",
    "# Run conversions\n",
    "targets = [\n",
    "    (\"player_performances.csv\",         \"player_performances.parquet\"),\n",
    "    (\"player_injuries.csv\",             \"player_injuries.parquet\"),\n",
    "    (\"player_national_performances.csv\",\"player_national_performances.parquet\"),\n",
    "    (\"player_teammates_played_with.csv\",\"player_teammates_played_with.parquet\"),\n",
    "    (\"player_profiles.csv\",\"player_profiles.parquet\")\n",
    "]\n",
    "\n",
    "for csv_file, parquet_file in targets:\n",
    "    convert_csv_to_parquet(csv_file, parquet_file)"
   ]
  }
 ],
 "metadata": {
  "kernelspec": {
   "display_name": "Python (base)",
   "language": "python",
   "name": "base"
  },
  "language_info": {
   "codemirror_mode": {
    "name": "ipython",
    "version": 3
   },
   "file_extension": ".py",
   "mimetype": "text/x-python",
   "name": "python",
   "nbconvert_exporter": "python",
   "pygments_lexer": "ipython3",
   "version": "3.12.3"
  }
 },
 "nbformat": 4,
 "nbformat_minor": 5
}
